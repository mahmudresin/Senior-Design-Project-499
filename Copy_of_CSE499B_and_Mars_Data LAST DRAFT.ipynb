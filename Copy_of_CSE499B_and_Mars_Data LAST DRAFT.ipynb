{
  "metadata": {
    "kernelspec": {
      "language": "python",
      "display_name": "Python 3",
      "name": "python3"
    },
    "language_info": {
      "name": "python",
      "version": "3.10.14",
      "mimetype": "text/x-python",
      "codemirror_mode": {
        "name": "ipython",
        "version": 3
      },
      "pygments_lexer": "ipython3",
      "nbconvert_exporter": "python",
      "file_extension": ".py"
    },
    "kaggle": {
      "accelerator": "none",
      "dataSources": [
        {
          "sourceId": 9945255,
          "sourceType": "datasetVersion",
          "datasetId": 6115368
        }
      ],
      "dockerImageVersionId": 30786,
      "isInternetEnabled": true,
      "language": "python",
      "sourceType": "notebook",
      "isGpuEnabled": false
    },
    "colab": {
      "provenance": [],
      "include_colab_link": true
    }
  },
  "nbformat_minor": 0,
  "nbformat": 4,
  "cells": [
    {
      "cell_type": "markdown",
      "metadata": {
        "id": "view-in-github",
        "colab_type": "text"
      },
      "source": [
        "<a href=\"https://colab.research.google.com/github/mahmudresin/Senior-Design-Project-499/blob/main/Copy_of_CSE499B_and_Mars_Data%20LAST%20DRAFT.ipynb\" target=\"_parent\"><img src=\"https://colab.research.google.com/assets/colab-badge.svg\" alt=\"Open In Colab\"/></a>"
      ]
    },
    {
      "source": [
        "# IMPORTANT: RUN THIS CELL IN ORDER TO IMPORT YOUR KAGGLE DATA SOURCES,\n",
        "# THEN FEEL FREE TO DELETE THIS CELL.\n",
        "# NOTE: THIS NOTEBOOK ENVIRONMENT DIFFERS FROM KAGGLE'S PYTHON\n",
        "# ENVIRONMENT SO THERE MAY BE MISSING LIBRARIES USED BY YOUR\n",
        "# NOTEBOOK.\n",
        "import kagglehub\n",
        "yeaminmahmudresin_last_draft_path = kagglehub.dataset_download('yeaminmahmudresin/last-draft')\n",
        "\n",
        "print('Data source import complete.')\n"
      ],
      "metadata": {
        "id": "Jlb2QNpVxzBb",
        "outputId": "37d72e51-715a-4dbd-a320-7d894039749a",
        "colab": {
          "base_uri": "https://localhost:8080/"
        }
      },
      "cell_type": "code",
      "outputs": [
        {
          "output_type": "stream",
          "name": "stdout",
          "text": [
            "Downloading from https://www.kaggle.com/api/v1/datasets/download/yeaminmahmudresin/last-draft?dataset_version_number=1...\n"
          ]
        },
        {
          "output_type": "stream",
          "name": "stderr",
          "text": [
            "100%|██████████| 61.4M/61.4M [00:01<00:00, 40.6MB/s]"
          ]
        },
        {
          "output_type": "stream",
          "name": "stdout",
          "text": [
            "Extracting files...\n"
          ]
        },
        {
          "output_type": "stream",
          "name": "stderr",
          "text": [
            "\n"
          ]
        },
        {
          "output_type": "stream",
          "name": "stdout",
          "text": [
            "Data source import complete.\n"
          ]
        }
      ],
      "execution_count": 1
    },
    {
      "cell_type": "code",
      "source": [
        "# This Python 3 environment comes with many helpful analytics libraries installed\n",
        "# It is defined by the kaggle/python Docker image: https://github.com/kaggle/docker-python\n",
        "# For example, here's several helpful packages to load\n",
        "\n",
        "import numpy as np # linear algebra\n",
        "import pandas as pd # data processing, CSV file I/O (e.g. pd.read_csv)\n",
        "\n",
        "# Input data files are available in the read-only \"../input/\" directory\n",
        "# For example, running this (by clicking run or pressing Shift+Enter) will list all files under the input directory\n",
        "\n",
        "import os\n",
        "for dirname, _, filenames in os.walk('/kaggle/input'):\n",
        "    for filename in filenames:\n",
        "        print(os.path.join(dirname, filename))\n",
        "\n",
        "# You can write up to 20GB to the current directory (/kaggle/working/) that gets preserved as output when you create a version using \"Save & Run All\"\n",
        "# You can also write temporary files to /kaggle/temp/, but they won't be saved outside of the current session"
      ],
      "metadata": {
        "_uuid": "8f2839f25d086af736a60e9eeb907d3b93b6e0e5",
        "_cell_guid": "b1076dfc-b9ad-4769-8c92-a6c4dae69d19",
        "execution": {
          "iopub.status.busy": "2024-11-20T19:06:39.603127Z",
          "iopub.execute_input": "2024-11-20T19:06:39.604443Z",
          "iopub.status.idle": "2024-11-20T19:06:41.158493Z",
          "shell.execute_reply.started": "2024-11-20T19:06:39.604381Z",
          "shell.execute_reply": "2024-11-20T19:06:41.156926Z"
        },
        "trusted": true,
        "id": "xaPtTIfJxzBh"
      },
      "execution_count": 2,
      "outputs": []
    },
    {
      "cell_type": "code",
      "source": [
        "import os\n",
        "import numpy as np\n",
        "from sklearn.preprocessing import MinMaxScaler\n",
        "from tensorflow.keras.preprocessing.image import load_img, img_to_array\n",
        "import kagglehub\n",
        "import cv2\n",
        "\n",
        "# Download dataset using kagglehub\n",
        "yeaminmahmudresin_last_draft_path = kagglehub.dataset_download('yeaminmahmudresin/last-draft')\n",
        "\n",
        "# Update paths to point to the downloaded dataset location\n",
        "train_path = os.path.join(yeaminmahmudresin_last_draft_path, 'New Mars Experimental Data/Train')\n",
        "test_path = os.path.join(yeaminmahmudresin_last_draft_path, 'New Mars Experimental Data/Test')\n",
        "val_path = os.path.join(yeaminmahmudresin_last_draft_path, 'New Mars Experimental Data/Val')\n",
        "\n",
        "\n",
        "def load_images_from_folder(folder):\n",
        "    images = []\n",
        "    for filename in os.listdir(folder):\n",
        "        img = cv2.imread(os.path.join(folder, filename))\n",
        "        if img is not None:\n",
        "            img = cv2.cvtColor(img, cv2.COLOR_BGR2GRAY)  # Convert to grayscale\n",
        "            img = cv2.resize(img, (4, 4))  # Resize to 4x4 to match 16 qubits\n",
        "            images.append(img)\n",
        "    return np.array(images)\n",
        "\n",
        "train_images = load_images_from_folder(train_path)\n",
        "\n",
        "\n",
        "# Preprocessing (unchanged)\n",
        "def preprocess_images(image_dir, target_size=(64, 64)):\n",
        "    images = []\n",
        "    for img_file in os.listdir(image_dir):\n",
        "        img_path = os.path.join(image_dir, img_file)\n",
        "        img = load_img(img_path, target_size=target_size)\n",
        "        img_array = img_to_array(img)\n",
        "        images.append(img_array.flatten())\n",
        "    return np.array(images)\n",
        "\n",
        "\n",
        "\n",
        "train_images = load_images_from_folder(train_path)\n",
        "\n",
        "# Load datasets\n",
        "train_images = preprocess_images(train_path)\n",
        "test_images = preprocess_images(test_path)\n",
        "val_images = preprocess_images(val_path)\n",
        "\n",
        "# Normalize features (unchanged)\n",
        "scaler = MinMaxScaler()\n",
        "train_images = scaler.fit_transform(train_images)\n",
        "test_images = scaler.transform(test_images)\n",
        "val_images = scaler.transform(val_images)\n",
        "\n",
        "# Convert to binary (unchanged)\n",
        "def to_binary_features(data, n_bits=8):\n",
        "    binary_encoded = np.array([\n",
        "        [np.binary_repr(int(val * (2**n_bits - 1)), width=n_bits) for val in sample]\n",
        "        for sample in data\n",
        "    ])\n",
        "    return binary_encoded\n",
        "\n",
        "train_binary = to_binary_features(train_images)\n",
        "test_binary = to_binary_features(test_images)\n",
        "val_binary = to_binary_features(val_images)\n",
        "\n",
        "# Display sample binary encoding (unchanged)\n",
        "print(\"Sample Binary Encoding of a Feature Vector:\")\n",
        "print(train_binary[0])"
      ],
      "metadata": {
        "execution": {
          "iopub.status.busy": "2024-11-20T19:06:41.161349Z",
          "iopub.execute_input": "2024-11-20T19:06:41.162591Z",
          "iopub.status.idle": "2024-11-20T19:13:16.889363Z",
          "shell.execute_reply.started": "2024-11-20T19:06:41.162546Z",
          "shell.execute_reply": "2024-11-20T19:13:16.887892Z"
        },
        "trusted": true,
        "id": "PwSQM_CbxzBj",
        "colab": {
          "base_uri": "https://localhost:8080/"
        },
        "outputId": "5dadfbdd-a555-4de0-8740-b43c058b0076"
      },
      "execution_count": 4,
      "outputs": [
        {
          "output_type": "stream",
          "name": "stdout",
          "text": [
            "Sample Binary Encoding of a Feature Vector:\n",
            "['01100010' '01100000' '01000000' ... '01110100' '01001101' '00110000']\n"
          ]
        }
      ]
    },
    {
      "cell_type": "code",
      "source": [
        "import os\n",
        "import cv2\n",
        "import numpy as np\n",
        "\n",
        "\n",
        "\n",
        "# Optional: Check the shape of the datasets\n",
        "print(f'Train images shape: {train_images.shape}')\n",
        "print(f'Test images shape: {test_images.shape}')\n",
        "print(f'Validation images shape: {val_images.shape}')\n",
        "\n",
        "\n"
      ],
      "metadata": {
        "execution": {
          "iopub.status.busy": "2024-11-20T19:50:05.022436Z",
          "iopub.execute_input": "2024-11-20T19:50:05.02323Z",
          "iopub.status.idle": "2024-11-20T19:50:17.630685Z",
          "shell.execute_reply.started": "2024-11-20T19:50:05.023173Z",
          "shell.execute_reply": "2024-11-20T19:50:17.629405Z"
        },
        "trusted": true,
        "id": "50EkWjauxzBl",
        "colab": {
          "base_uri": "https://localhost:8080/"
        },
        "outputId": "e3582d70-e470-4de0-f4b8-1559f15965ac"
      },
      "execution_count": 5,
      "outputs": [
        {
          "output_type": "stream",
          "name": "stdout",
          "text": [
            "Train images shape: (6732, 12288)\n",
            "Test images shape: (200, 12288)\n",
            "Validation images shape: (200, 12288)\n"
          ]
        }
      ]
    },
    {
      "cell_type": "code",
      "source": [
        "import numpy as np\n",
        "\n",
        "def normalize_images(images):\n",
        "    return images.astype('float32') / 255.0\n",
        "\n",
        "# Normalize the images\n",
        "train_images = normalize_images(train_images)\n",
        "test_images = normalize_images(test_images)\n",
        "val_images = normalize_images(val_images)\n"
      ],
      "metadata": {
        "execution": {
          "iopub.status.busy": "2024-11-20T19:50:21.510429Z",
          "iopub.execute_input": "2024-11-20T19:50:21.5119Z",
          "iopub.status.idle": "2024-11-20T19:50:51.606219Z",
          "shell.execute_reply.started": "2024-11-20T19:50:21.511848Z",
          "shell.execute_reply": "2024-11-20T19:50:51.604969Z"
        },
        "trusted": true,
        "id": "5B6ZojAqxzBm"
      },
      "execution_count": 6,
      "outputs": []
    },
    {
      "cell_type": "markdown",
      "source": [],
      "metadata": {
        "id": "tNJUF-MWV5HZ"
      }
    },
    {
      "cell_type": "code",
      "source": [
        "from qiskit import QuantumCircuit\n",
        "import numpy as np\n",
        "\n",
        "# Example amplitude encoding function\n",
        "def amplitude_encode(image):\n",
        "    # Normalize the image to obtain a state vector\n",
        "    amplitudes = image.flatten() / np.linalg.norm(image.flatten())\n",
        "    num_qubits = int(np.ceil(np.log2(len(amplitudes))))  # Calculate required number of qubits\n",
        "\n",
        "    qc = QuantumCircuit(num_qubits)\n",
        "\n",
        "    # Amplitude encoding (this is a simplified version, for illustration purposes)\n",
        "    for i in range(num_qubits):\n",
        "        qc.ry(2 * np.arccos(amplitudes[i]), i)  # Encode amplitude into qubit\n",
        "        if i > 0:\n",
        "            qc.cx(i - 1, i)  # Create entanglement using 'cx' (CNOT)\n",
        "\n",
        "    return qc\n",
        "\n",
        "# Function to encode a batch of images\n",
        "def batch_amplitude_encode(images):\n",
        "    circuits = []\n",
        "    for image in images:\n",
        "        qc = amplitude_encode(image)\n",
        "        circuits.append(qc)\n",
        "    return circuits\n",
        "\n",
        "# Example: Process a batch of 10 images from the training set\n",
        "batch_size = 10\n",
        "image_batch = train_images[:batch_size]  # Select the first 10 images\n",
        "quantum_circuits = batch_amplitude_encode(image_batch)\n",
        "\n",
        "# Draw the circuits for the first image in the batch\n",
        "print(quantum_circuits[0].draw())\n"
      ],
      "metadata": {
        "id": "5-0FcFli6poe",
        "colab": {
          "base_uri": "https://localhost:8080/"
        },
        "outputId": "d3781890-e10b-4453-d98c-1b6bd40afc17"
      },
      "execution_count": 9,
      "outputs": [
        {
          "output_type": "stream",
          "name": "stdout",
          "text": [
            "      ┌────────────┐                                                       »\n",
            " q_0: ┤ Ry(3.1261) ├──■────────────────────────────────────────────────────»\n",
            "      ├────────────┤┌─┴─┐                                                  »\n",
            " q_1: ┤ Ry(3.1264) ├┤ X ├──■───────────────────────────────────────────────»\n",
            "      ├────────────┤└───┘┌─┴─┐                                             »\n",
            " q_2: ┤ Ry(3.1315) ├─────┤ X ├──■──────────────────────────────────────────»\n",
            "      ├────────────┤     └───┘┌─┴─┐                                        »\n",
            " q_3: ┤ Ry(3.1182) ├──────────┤ X ├──■─────────────────────────────────────»\n",
            "      ├────────────┤          └───┘┌─┴─┐                                   »\n",
            " q_4: ┤ Ry(3.1235) ├───────────────┤ X ├──■────────────────────────────────»\n",
            "      ├────────────┤               └───┘┌─┴─┐                              »\n",
            " q_5: ┤ Ry(3.1272) ├────────────────────┤ X ├──■───────────────────────────»\n",
            "      ├────────────┤                    └───┘┌─┴─┐                         »\n",
            " q_6: ┤ Ry(3.1176) ├─────────────────────────┤ X ├──■──────────────────────»\n",
            "      ├────────────┤                         └───┘┌─┴─┐                    »\n",
            " q_7: ┤ Ry(3.1242) ├──────────────────────────────┤ X ├──■─────────────────»\n",
            "      ├────────────┤                              └───┘┌─┴─┐               »\n",
            " q_8: ┤ Ry(3.1277) ├───────────────────────────────────┤ X ├──■────────────»\n",
            "      ├────────────┤                                   └───┘┌─┴─┐          »\n",
            " q_9: ┤ Ry(3.1258) ├────────────────────────────────────────┤ X ├──■───────»\n",
            "      ├────────────┤                                        └───┘┌─┴─┐     »\n",
            "q_10: ┤ Ry(3.1307) ├─────────────────────────────────────────────┤ X ├──■──»\n",
            "      ├────────────┤                                             └───┘┌─┴─┐»\n",
            "q_11: ┤ Ry(3.1351) ├──────────────────────────────────────────────────┤ X ├»\n",
            "      ├────────────┤                                                  └───┘»\n",
            "q_12: ┤ Ry(3.1304) ├───────────────────────────────────────────────────────»\n",
            "      ├────────────┤                                                       »\n",
            "q_13: ┤ Ry(3.1344) ├───────────────────────────────────────────────────────»\n",
            "      └────────────┘                                                       »\n",
            "«                \n",
            "« q_0: ──────────\n",
            "«                \n",
            "« q_1: ──────────\n",
            "«                \n",
            "« q_2: ──────────\n",
            "«                \n",
            "« q_3: ──────────\n",
            "«                \n",
            "« q_4: ──────────\n",
            "«                \n",
            "« q_5: ──────────\n",
            "«                \n",
            "« q_6: ──────────\n",
            "«                \n",
            "« q_7: ──────────\n",
            "«                \n",
            "« q_8: ──────────\n",
            "«                \n",
            "« q_9: ──────────\n",
            "«                \n",
            "«q_10: ──────────\n",
            "«                \n",
            "«q_11: ──■───────\n",
            "«      ┌─┴─┐     \n",
            "«q_12: ┤ X ├──■──\n",
            "«      └───┘┌─┴─┐\n",
            "«q_13: ─────┤ X ├\n",
            "«           └───┘\n"
          ]
        }
      ]
    },
    {
      "cell_type": "code",
      "source": [
        "import numpy as np\n",
        "\n",
        "def pad_image(image):\n",
        "    num_qubits = 14  # Adjust the number of qubits according to your needs\n",
        "    padded_size = 2 ** num_qubits\n",
        "    padded_image = np.pad(image, (0, padded_size - len(image)))\n",
        "    return padded_image\n",
        "\n",
        "def amplitude_encoding_circuit(image):\n",
        "    padded_image = pad_image(image)\n",
        "    num_qubits = int(np.log2(len(padded_image)))\n",
        "    qml.templates.AmplitudeEmbedding(padded_image, wires=range(num_qubits), normalize=True)\n",
        "    return qml.state()"
      ],
      "metadata": {
        "id": "_Tic1KJb-mZp"
      },
      "execution_count": 10,
      "outputs": []
    },
    {
      "cell_type": "code",
      "source": [
        "import pennylane as qml\n",
        "import numpy as np\n",
        "\n",
        "# Define the quantum device\n",
        "dev = qml.device(\"default.qubit\", wires=14)  # Adjust the number of wires based on your needs\n",
        "\n",
        "@qml.qnode(dev)\n",
        "def amplitude_encoding_circuit(image, num_qubits):\n",
        "    padded_image = pad_image(image, num_qubits)\n",
        "    qml.templates.AmplitudeEmbedding(padded_image, wires=range(num_qubits), normalize=True)\n",
        "    return qml.state()"
      ],
      "metadata": {
        "execution": {
          "iopub.status.busy": "2024-11-20T19:51:05.051188Z",
          "iopub.execute_input": "2024-11-20T19:51:05.051716Z",
          "iopub.status.idle": "2024-11-20T19:51:08.130775Z",
          "shell.execute_reply.started": "2024-11-20T19:51:05.051671Z",
          "shell.execute_reply": "2024-11-20T19:51:08.128792Z"
        },
        "trusted": true,
        "id": "uDIwgFGUxzBn"
      },
      "execution_count": 13,
      "outputs": []
    },
    {
      "cell_type": "code",
      "source": [
        "def pad_image(image, num_qubits):\n",
        "    padded_size = 2 ** num_qubits\n",
        "    padded_image = np.pad(image, (0, padded_size - len(image)), 'constant')\n",
        "    return padded_image"
      ],
      "metadata": {
        "id": "yu2eHrKO8SAF"
      },
      "execution_count": 14,
      "outputs": []
    },
    {
      "cell_type": "code",
      "source": [
        "# Example batch of images\n",
        "image_batch = [np.random.rand(12288) for _ in range(10)]  # Replace with your actual images\n",
        "\n",
        "# Execute the circuit for each image in the batch and store the results (statevectors)\n",
        "results = [amplitude_encoding_circuit(image, num_qubits=14) for image in image_batch]\n",
        "\n",
        "# Print the encoded statevectors for each image in the batch\n",
        "for i, statevector in enumerate(results):\n",
        "    print(f\"Encoded statevector for image {i}: {statevector}\")"
      ],
      "metadata": {
        "id": "BZLGVfuH_CXv",
        "colab": {
          "base_uri": "https://localhost:8080/"
        },
        "outputId": "20211055-5e48-4803-e283-569e33b87a67"
      },
      "execution_count": 15,
      "outputs": [
        {
          "output_type": "stream",
          "name": "stdout",
          "text": [
            "Encoded statevector for image 0: [0.01376755+0.j 0.00291806+0.j 0.00066609+0.j ... 0.        +0.j\n",
            " 0.        +0.j 0.        +0.j]\n",
            "Encoded statevector for image 1: [0.00750561+0.j 0.00319431+0.j 0.01219672+0.j ... 0.        +0.j\n",
            " 0.        +0.j 0.        +0.j]\n",
            "Encoded statevector for image 2: [0.00594297+0.j 0.01295205+0.j 0.00975015+0.j ... 0.        +0.j\n",
            " 0.        +0.j 0.        +0.j]\n",
            "Encoded statevector for image 3: [0.01412985+0.j 0.00886771+0.j 0.00127067+0.j ... 0.        +0.j\n",
            " 0.        +0.j 0.        +0.j]\n",
            "Encoded statevector for image 4: [0.00244795+0.j 0.00092189+0.j 0.00654607+0.j ... 0.        +0.j\n",
            " 0.        +0.j 0.        +0.j]\n",
            "Encoded statevector for image 5: [1.02580858e-02+0.j 3.15552544e-03+0.j 4.11293927e-05+0.j ...\n",
            " 0.00000000e+00+0.j 0.00000000e+00+0.j 0.00000000e+00+0.j]\n",
            "Encoded statevector for image 6: [0.01178201+0.j 0.0139958 +0.j 0.00513294+0.j ... 0.        +0.j\n",
            " 0.        +0.j 0.        +0.j]\n",
            "Encoded statevector for image 7: [0.01204148+0.j 0.01355902+0.j 0.00204955+0.j ... 0.        +0.j\n",
            " 0.        +0.j 0.        +0.j]\n",
            "Encoded statevector for image 8: [0.00969627+0.j 0.01074538+0.j 0.00269968+0.j ... 0.        +0.j\n",
            " 0.        +0.j 0.        +0.j]\n",
            "Encoded statevector for image 9: [0.00883481+0.j 0.01450576+0.j 0.00221061+0.j ... 0.        +0.j\n",
            " 0.        +0.j 0.        +0.j]\n"
          ]
        }
      ]
    },
    {
      "cell_type": "code",
      "source": [
        "# Example: Measure the statevector\n",
        "measurements = [qml.measure(qml.PauliZ(0)) for _ in range(len(results))]"
      ],
      "metadata": {
        "id": "Sj0fdBRj_G9H"
      },
      "execution_count": 16,
      "outputs": []
    },
    {
      "cell_type": "code",
      "source": [
        "import pennylane as qml\n",
        "import numpy as np\n",
        "\n",
        "# Set up the device for quantum computation (QPU)\n",
        "dev = qml.device('default.qubit', wires=4)\n",
        "\n",
        "# Define a quantum circuit for classification using Amplitude Embedding\n",
        "@qml.qnode(dev)\n",
        "def quantum_circuit(weights, x):\n",
        "    # Amplitude encoding: we use the image data (x) as the input to the quantum circuit\n",
        "    qml.templates.AngleEmbedding(x, wires=range(len(x)))\n",
        "\n",
        "    # Define trainable quantum gates (variational circuit)\n",
        "    qml.templates.BasicEntanglerLayers(weights, wires=range(len(x)))\n",
        "\n",
        "    # Return expectation values (PauliZ measurements for each qubit)\n",
        "    return [qml.expval(qml.PauliZ(i)) for i in range(len(x))]\n",
        "\n",
        "# Function to encode and classify an image using the quantum circuit\n",
        "def classify_image(image, weights):\n",
        "    # Normalize the image to ensure the values are in the range [0, 1]\n",
        "    normalized_image = image / np.linalg.norm(image)\n",
        "\n",
        "    # Use the quantum circuit to classify\n",
        "    return quantum_circuit(weights, normalized_image)\n",
        "\n",
        "# Example of a random image (flattened and normalized) for testing\n",
        "random_image = np.random.rand(4)  # For a 4-qubit system\n",
        "random_weights = np.random.randn(1, 4)  # Random initialization for weights\n",
        "\n",
        "# Classify the image\n",
        "print(\"Quantum Classifier Output:\", classify_image(random_image, random_weights))\n"
      ],
      "metadata": {
        "id": "dn7hpLiaWA6N",
        "colab": {
          "base_uri": "https://localhost:8080/"
        },
        "outputId": "685a363b-70a9-4eb5-dc0e-7a9d9a2ce213"
      },
      "execution_count": 17,
      "outputs": [
        {
          "output_type": "stream",
          "name": "stdout",
          "text": [
            "Quantum Classifier Output: [0.522276643302952, 0.8187566954007308, 0.6252887097999857, 0.5211827617898366]\n"
          ]
        }
      ]
    },
    {
      "cell_type": "code",
      "source": [
        "import numpy as np\n",
        "import pennylane as qml\n",
        "\n",
        "# Define the loss function (cross-entropy loss for classification)\n",
        "def loss_fn(predictions, labels):\n",
        "    # Use qml.math.exp for automatic differentiation compatibility\n",
        "    predictions = 1 / (1 + qml.math.exp(-predictions))  # Sigmoid activation\n",
        "    return -qml.math.mean(labels * qml.math.log(predictions) + (1 - labels) * qml.math.log(1 - predictions))\n",
        "\n",
        "# Define a quantum circuit model with trainable parameters\n",
        "def quantum_classifier(weights, image, num_qubits=16):\n",
        "    # Define the quantum device\n",
        "    dev = qml.device(\"default.qubit\", wires=num_qubits)\n",
        "\n",
        "    # Define the quantum circuit with trainable parameters\n",
        "    @qml.qnode(dev, interface='autograd')  # Specify 'autograd' to enable automatic differentiation\n",
        "    def circuit(weights, image):\n",
        "        # Encode the image into quantum states using the weights as parameters\n",
        "        for i in range(num_qubits):\n",
        "            qml.RX(image[i], wires=i)\n",
        "            qml.RZ(weights[i], wires=i)  # We make weights as trainable parameters\n",
        "\n",
        "        # Measure the expectation value of the PauliZ operator (for simplicity)\n",
        "        return qml.expval(qml.PauliZ(0))\n",
        "\n",
        "    return circuit(weights, image)\n",
        "\n",
        "# Training function\n",
        "def train_classifier(images, labels, epochs=100, learning_rate=0.1):\n",
        "    num_qubits = len(images[0])  # Number of qubits\n",
        "    weights = np.random.randn(num_qubits)  # Initialize weights randomly\n",
        "\n",
        "    # Ensure weights are trainable\n",
        "    weights = np.array(weights, dtype=np.float64)\n",
        "\n",
        "    for epoch in range(epochs):\n",
        "        total_loss = 0\n",
        "        # Perform a gradient descent step for each image\n",
        "        for img, label in zip(images, labels):\n",
        "            # Get predictions from quantum classifier\n",
        "            pred = quantum_classifier(weights, img)  # Use the quantum classifier to get predictions\n",
        "\n",
        "            # Compute the loss (negative log-likelihood)\n",
        "            loss = loss_fn(pred, label)\n",
        "            total_loss += loss\n",
        "\n",
        "            # Compute the gradient of the loss w.r.t weights (using PennyLane’s automatic differentiation)\n",
        "            # We use the fact that `qml.qnode` supports automatic differentiation\n",
        "            gradient = qml.grad(loss_fn)(pred, label)\n",
        "\n",
        "            # Update the weights using gradient descent\n",
        "            weights -= learning_rate * gradient\n",
        "\n",
        "        # Print progress\n",
        "        if epoch % 10 == 0:\n",
        "            print(f\"Epoch {epoch}: Loss = {total_loss / len(images)}\")\n",
        "\n",
        "    return weights\n",
        "\n",
        "# Example images and labels (random for this case)\n",
        "images = np.random.randn(10, 16)  # 10 samples, each with 16 features (qubits)\n",
        "labels = np.random.randint(0, 2, size=10)  # Binary labels (0 or 1)\n",
        "\n",
        "# Train the classifier\n",
        "trained_weights = train_classifier(images, labels)\n",
        "print(\"Trained weights:\", trained_weights)\n"
      ],
      "metadata": {
        "id": "JOreUHT4XRME",
        "colab": {
          "base_uri": "https://localhost:8080/"
        },
        "outputId": "fe46e6a7-bba6-43e9-b6ce-bcdecfa84332"
      },
      "execution_count": 18,
      "outputs": [
        {
          "output_type": "stream",
          "name": "stdout",
          "text": [
            "Epoch 0: Loss = 0.9420933002280474\n",
            "Epoch 10: Loss = 0.942093300228047\n",
            "Epoch 20: Loss = 0.9420933002280474\n",
            "Epoch 30: Loss = 0.942093300228047\n",
            "Epoch 40: Loss = 0.9420933002280473\n",
            "Epoch 50: Loss = 0.942093300228047\n",
            "Epoch 60: Loss = 0.9420933002280474\n",
            "Epoch 70: Loss = 0.9420933002280473\n",
            "Epoch 80: Loss = 0.942093300228047\n",
            "Epoch 90: Loss = 0.9420933002280473\n",
            "Trained weights: [-27.56992612 -29.08768374 -26.80164134 -26.81248382 -26.60054517\n",
            " -26.64564875 -27.47659536 -26.91591606 -27.25715934 -28.50975451\n",
            " -27.36429884 -27.86263174 -29.02168475 -25.66486202 -27.26318647\n",
            " -25.24826984]\n"
          ]
        }
      ]
    },
    {
      "cell_type": "code",
      "source": [
        "from sklearn.metrics import accuracy_score, precision_score, recall_score, f1_score\n",
        "import pennylane as qml\n",
        "import numpy as np\n",
        "\n",
        "# Function to classify an image using the quantum circuit\n",
        "def classify_image(image, weights, num_qubits):\n",
        "    # Initialize the quantum device with the appropriate number of qubits\n",
        "    dev = qml.device('default.qubit', wires=num_qubits)\n",
        "\n",
        "    # Define the quantum circuit with the updated device\n",
        "    @qml.qnode(dev)\n",
        "    def quantum_circuit(weights, x):\n",
        "        # Amplitude embedding of the image data\n",
        "        qml.templates.AngleEmbedding(x, wires=range(num_qubits))\n",
        "\n",
        "        # Reshape weights for one layer of the entanglement circuit\n",
        "        weights_reshaped = weights.reshape((1, num_qubits))  # Assuming 1 layer for simplicity\n",
        "        qml.templates.BasicEntanglerLayers(weights_reshaped, wires=range(num_qubits))\n",
        "\n",
        "        # Return PauliZ expectation values\n",
        "        return [qml.expval(qml.PauliZ(i)) for i in range(num_qubits)]\n",
        "\n",
        "    # Normalize the image to ensure values are between [0, 1]\n",
        "    normalized_image = image / np.linalg.norm(image)\n",
        "\n",
        "    # Use the quantum circuit to classify the image\n",
        "    result = quantum_circuit(weights, normalized_image)\n",
        "\n",
        "    # Aggregate the output and classify based on the average result\n",
        "    return 1 if np.mean(result) > 0 else 0  # Binary classification\n",
        "\n",
        "# Function to evaluate the classifier on a dataset of images and labels\n",
        "def evaluate_classifier(images, labels, weights):\n",
        "    # Ensure all images have the same size and derive the number of qubits\n",
        "    num_qubits = len(images[0])\n",
        "\n",
        "    # Store predictions\n",
        "    predictions = []\n",
        "\n",
        "    # Classify each image\n",
        "    for img in images:\n",
        "        pred_class = classify_image(img, weights, num_qubits)\n",
        "        predictions.append(pred_class)\n",
        "\n",
        "    # Calculate evaluation metrics\n",
        "    acc = accuracy_score(labels, predictions)\n",
        "    prec = precision_score(labels, predictions)\n",
        "    rec = recall_score(labels, predictions)\n",
        "    f1 = f1_score(labels, predictions)\n",
        "\n",
        "    return acc, prec, rec, f1\n",
        "\n",
        "# Example of random data for testing\n",
        "# Replace these with your actual dataset and trained weights\n",
        "np.random.seed(42)\n",
        "num_samples = 10\n",
        "image_size = 4  # Number of qubits is equal to the number of features per image\n",
        "images = np.random.rand(num_samples, image_size)  # Generate random images\n",
        "labels = np.random.randint(0, 2, size=num_samples)  # Random binary labels\n",
        "trained_weights = np.random.rand(image_size)  # Randomly initialized weights\n",
        "\n",
        "# Evaluate the classifier on the dataset\n",
        "acc, prec, rec, f1 = evaluate_classifier(images, labels, trained_weights)\n",
        "\n",
        "# Print the evaluation results\n",
        "print(f\"Accuracy: {acc:.4f}\")\n",
        "print(f\"Precision: {prec:.4f}\")\n",
        "print(f\"Recall: {rec:.4f}\")\n",
        "print(f\"F1 Score: {f1:.4f}\")\n",
        "\n"
      ],
      "metadata": {
        "id": "x2SzR-L-YhLw",
        "colab": {
          "base_uri": "https://localhost:8080/"
        },
        "outputId": "9ee4f48f-5f5a-4cb9-d8d5-7ed5d0a2ca8d"
      },
      "execution_count": 21,
      "outputs": [
        {
          "output_type": "stream",
          "name": "stdout",
          "text": [
            "Accuracy: 0.5000\n",
            "Precision: 0.5000\n",
            "Recall: 1.0000\n",
            "F1 Score: 0.6667\n"
          ]
        }
      ]
    },
    {
      "cell_type": "code",
      "source": [
        "import tensorflow as tf\n",
        "from tensorflow.keras import layers, models\n",
        "import numpy as np\n",
        "\n",
        "# Classical CNN model for feature extraction\n",
        "def classical_cnn(input_shape=(28, 28, 1)):\n",
        "    model = models.Sequential([\n",
        "        layers.Conv2D(32, (3, 3), activation='relu', input_shape=input_shape),\n",
        "        layers.MaxPooling2D((2, 2)),\n",
        "        layers.Flatten(),\n",
        "        layers.Dense(128, activation='relu'),\n",
        "    ])\n",
        "    return model\n",
        "\n",
        "# Quantum layer using the previously defined quantum classifier\n",
        "def quantum_layer(image, weights):\n",
        "    return classify_image(image.flatten(), weights)\n",
        "\n",
        "# Define a hybrid model\n",
        "def hybrid_model(input_shape=(28, 28, 1), num_qubits=4):\n",
        "    # Create classical CNN model\n",
        "    cnn_model = classical_cnn(input_shape)\n",
        "\n",
        "    # Define the quantum weights (example initialization)\n",
        "    quantum_weights = np.random.randn(1, num_qubits)\n",
        "\n",
        "    # Create the input layer for the hybrid model\n",
        "    inputs = layers.Input(shape=input_shape)\n",
        "\n",
        "    # Get the output of the classical CNN\n",
        "    cnn_output = cnn_model(inputs)\n",
        "\n",
        "    # Specify the output shape of the Lambda layer based on the quantum layer's output\n",
        "    quantum_output = layers.Lambda(lambda x: quantum_layer(x, quantum_weights),\n",
        "                                   output_shape=(1,))(cnn_output)  # Output shape must be specified\n",
        "\n",
        "    # Final classification layer (dense layer with sigmoid activation)\n",
        "    output_layer = layers.Dense(1, activation='sigmoid')(quantum_output)\n",
        "\n",
        "    # Define the full hybrid model\n",
        "    model = models.Model(inputs=inputs, outputs=output_layer)\n",
        "\n",
        "    # Compile the model\n",
        "    model.compile(optimizer='adam', loss='binary_crossentropy', metrics=['accuracy'])\n",
        "\n",
        "    return model\n",
        "\n",
        "# Build and train the hybrid model\n",
        "hybrid_model_instance = hybrid_model()\n",
        "hybrid_model_instance.summary()\n"
      ],
      "metadata": {
        "execution": {
          "iopub.status.busy": "2024-11-20T19:51:10.918691Z",
          "iopub.execute_input": "2024-11-20T19:51:10.919133Z",
          "iopub.status.idle": "2024-11-20T19:51:10.933129Z",
          "shell.execute_reply.started": "2024-11-20T19:51:10.919098Z",
          "shell.execute_reply": "2024-11-20T19:51:10.931183Z"
        },
        "trusted": true,
        "id": "IdMU5asfxzBn",
        "colab": {
          "base_uri": "https://localhost:8080/",
          "height": 312
        },
        "outputId": "2adfc7e5-c792-4994-f12f-50cdb44f289a"
      },
      "execution_count": 22,
      "outputs": [
        {
          "output_type": "stream",
          "name": "stderr",
          "text": [
            "/usr/local/lib/python3.10/dist-packages/keras/src/layers/convolutional/base_conv.py:107: UserWarning: Do not pass an `input_shape`/`input_dim` argument to a layer. When using Sequential models, prefer using an `Input(shape)` object as the first layer in the model instead.\n",
            "  super().__init__(activity_regularizer=activity_regularizer, **kwargs)\n"
          ]
        },
        {
          "output_type": "display_data",
          "data": {
            "text/plain": [
              "\u001b[1mModel: \"functional_1\"\u001b[0m\n"
            ],
            "text/html": [
              "<pre style=\"white-space:pre;overflow-x:auto;line-height:normal;font-family:Menlo,'DejaVu Sans Mono',consolas,'Courier New',monospace\"><span style=\"font-weight: bold\">Model: \"functional_1\"</span>\n",
              "</pre>\n"
            ]
          },
          "metadata": {}
        },
        {
          "output_type": "display_data",
          "data": {
            "text/plain": [
              "┏━━━━━━━━━━━━━━━━━━━━━━━━━━━━━━━━━━━━━━┳━━━━━━━━━━━━━━━━━━━━━━━━━━━━━┳━━━━━━━━━━━━━━━━━┓\n",
              "┃\u001b[1m \u001b[0m\u001b[1mLayer (type)                        \u001b[0m\u001b[1m \u001b[0m┃\u001b[1m \u001b[0m\u001b[1mOutput Shape               \u001b[0m\u001b[1m \u001b[0m┃\u001b[1m \u001b[0m\u001b[1m        Param #\u001b[0m\u001b[1m \u001b[0m┃\n",
              "┡━━━━━━━━━━━━━━━━━━━━━━━━━━━━━━━━━━━━━━╇━━━━━━━━━━━━━━━━━━━━━━━━━━━━━╇━━━━━━━━━━━━━━━━━┩\n",
              "│ input_layer_1 (\u001b[38;5;33mInputLayer\u001b[0m)           │ (\u001b[38;5;45mNone\u001b[0m, \u001b[38;5;34m28\u001b[0m, \u001b[38;5;34m28\u001b[0m, \u001b[38;5;34m1\u001b[0m)           │               \u001b[38;5;34m0\u001b[0m │\n",
              "├──────────────────────────────────────┼─────────────────────────────┼─────────────────┤\n",
              "│ sequential (\u001b[38;5;33mSequential\u001b[0m)              │ (\u001b[38;5;45mNone\u001b[0m, \u001b[38;5;34m128\u001b[0m)                 │         \u001b[38;5;34m692,672\u001b[0m │\n",
              "├──────────────────────────────────────┼─────────────────────────────┼─────────────────┤\n",
              "│ lambda (\u001b[38;5;33mLambda\u001b[0m)                      │ (\u001b[38;5;45mNone\u001b[0m, \u001b[38;5;34m1\u001b[0m)                   │               \u001b[38;5;34m0\u001b[0m │\n",
              "├──────────────────────────────────────┼─────────────────────────────┼─────────────────┤\n",
              "│ dense_1 (\u001b[38;5;33mDense\u001b[0m)                      │ (\u001b[38;5;45mNone\u001b[0m, \u001b[38;5;34m1\u001b[0m)                   │               \u001b[38;5;34m2\u001b[0m │\n",
              "└──────────────────────────────────────┴─────────────────────────────┴─────────────────┘\n"
            ],
            "text/html": [
              "<pre style=\"white-space:pre;overflow-x:auto;line-height:normal;font-family:Menlo,'DejaVu Sans Mono',consolas,'Courier New',monospace\">┏━━━━━━━━━━━━━━━━━━━━━━━━━━━━━━━━━━━━━━┳━━━━━━━━━━━━━━━━━━━━━━━━━━━━━┳━━━━━━━━━━━━━━━━━┓\n",
              "┃<span style=\"font-weight: bold\"> Layer (type)                         </span>┃<span style=\"font-weight: bold\"> Output Shape                </span>┃<span style=\"font-weight: bold\">         Param # </span>┃\n",
              "┡━━━━━━━━━━━━━━━━━━━━━━━━━━━━━━━━━━━━━━╇━━━━━━━━━━━━━━━━━━━━━━━━━━━━━╇━━━━━━━━━━━━━━━━━┩\n",
              "│ input_layer_1 (<span style=\"color: #0087ff; text-decoration-color: #0087ff\">InputLayer</span>)           │ (<span style=\"color: #00d7ff; text-decoration-color: #00d7ff\">None</span>, <span style=\"color: #00af00; text-decoration-color: #00af00\">28</span>, <span style=\"color: #00af00; text-decoration-color: #00af00\">28</span>, <span style=\"color: #00af00; text-decoration-color: #00af00\">1</span>)           │               <span style=\"color: #00af00; text-decoration-color: #00af00\">0</span> │\n",
              "├──────────────────────────────────────┼─────────────────────────────┼─────────────────┤\n",
              "│ sequential (<span style=\"color: #0087ff; text-decoration-color: #0087ff\">Sequential</span>)              │ (<span style=\"color: #00d7ff; text-decoration-color: #00d7ff\">None</span>, <span style=\"color: #00af00; text-decoration-color: #00af00\">128</span>)                 │         <span style=\"color: #00af00; text-decoration-color: #00af00\">692,672</span> │\n",
              "├──────────────────────────────────────┼─────────────────────────────┼─────────────────┤\n",
              "│ lambda (<span style=\"color: #0087ff; text-decoration-color: #0087ff\">Lambda</span>)                      │ (<span style=\"color: #00d7ff; text-decoration-color: #00d7ff\">None</span>, <span style=\"color: #00af00; text-decoration-color: #00af00\">1</span>)                   │               <span style=\"color: #00af00; text-decoration-color: #00af00\">0</span> │\n",
              "├──────────────────────────────────────┼─────────────────────────────┼─────────────────┤\n",
              "│ dense_1 (<span style=\"color: #0087ff; text-decoration-color: #0087ff\">Dense</span>)                      │ (<span style=\"color: #00d7ff; text-decoration-color: #00d7ff\">None</span>, <span style=\"color: #00af00; text-decoration-color: #00af00\">1</span>)                   │               <span style=\"color: #00af00; text-decoration-color: #00af00\">2</span> │\n",
              "└──────────────────────────────────────┴─────────────────────────────┴─────────────────┘\n",
              "</pre>\n"
            ]
          },
          "metadata": {}
        },
        {
          "output_type": "display_data",
          "data": {
            "text/plain": [
              "\u001b[1m Total params: \u001b[0m\u001b[38;5;34m692,674\u001b[0m (2.64 MB)\n"
            ],
            "text/html": [
              "<pre style=\"white-space:pre;overflow-x:auto;line-height:normal;font-family:Menlo,'DejaVu Sans Mono',consolas,'Courier New',monospace\"><span style=\"font-weight: bold\"> Total params: </span><span style=\"color: #00af00; text-decoration-color: #00af00\">692,674</span> (2.64 MB)\n",
              "</pre>\n"
            ]
          },
          "metadata": {}
        },
        {
          "output_type": "display_data",
          "data": {
            "text/plain": [
              "\u001b[1m Trainable params: \u001b[0m\u001b[38;5;34m692,674\u001b[0m (2.64 MB)\n"
            ],
            "text/html": [
              "<pre style=\"white-space:pre;overflow-x:auto;line-height:normal;font-family:Menlo,'DejaVu Sans Mono',consolas,'Courier New',monospace\"><span style=\"font-weight: bold\"> Trainable params: </span><span style=\"color: #00af00; text-decoration-color: #00af00\">692,674</span> (2.64 MB)\n",
              "</pre>\n"
            ]
          },
          "metadata": {}
        },
        {
          "output_type": "display_data",
          "data": {
            "text/plain": [
              "\u001b[1m Non-trainable params: \u001b[0m\u001b[38;5;34m0\u001b[0m (0.00 B)\n"
            ],
            "text/html": [
              "<pre style=\"white-space:pre;overflow-x:auto;line-height:normal;font-family:Menlo,'DejaVu Sans Mono',consolas,'Courier New',monospace\"><span style=\"font-weight: bold\"> Non-trainable params: </span><span style=\"color: #00af00; text-decoration-color: #00af00\">0</span> (0.00 B)\n",
              "</pre>\n"
            ]
          },
          "metadata": {}
        }
      ]
    },
    {
      "cell_type": "code",
      "source": [
        "import tensorflow as tf\n",
        "\n",
        "# Decorate the quantum circuit function to prevent AutoGraph transformation\n",
        "@tf.autograph.experimental.do_not_convert\n",
        "def quantum_circuit(inputs):\n",
        "    # Quantum circuit operations (the same as before)\n",
        "    for i in range(n_qubits):\n",
        "        qml.RY(inputs[i], wires=i)\n",
        "\n",
        "    qml.CNOT(wires=[0, 1])\n",
        "    qml.CNOT(wires=[2, 3])\n",
        "    qml.RX(np.pi / 2, wires=0)\n",
        "    qml.RX(np.pi / 2, wires=2)\n",
        "\n",
        "    return [qml.expval(qml.PauliZ(i)) for i in range(n_qubits)]\n",
        "\n",
        "# Define Quantum Layer with suppressed warnings\n",
        "class QuantumLayer(tf.keras.layers.Layer):\n",
        "    def __init__(self, n_qubits):\n",
        "        super(QuantumLayer, self).__init__()\n",
        "        self.n_qubits = n_qubits\n",
        "\n",
        "    def call(self, inputs):\n",
        "        # Apply the quantum circuit to the inputs\n",
        "        return tf.map_fn(quantum_circuit, inputs)\n"
      ],
      "metadata": {
        "execution": {
          "iopub.status.busy": "2024-11-20T19:51:19.536201Z",
          "iopub.execute_input": "2024-11-20T19:51:19.536676Z",
          "iopub.status.idle": "2024-11-20T19:51:19.545758Z",
          "shell.execute_reply.started": "2024-11-20T19:51:19.536638Z",
          "shell.execute_reply": "2024-11-20T19:51:19.544427Z"
        },
        "trusted": true,
        "id": "C1wEX6HuxzBo"
      },
      "execution_count": 24,
      "outputs": []
    },
    {
      "cell_type": "code",
      "source": [
        "import tensorflow as tf\n",
        "import numpy as np\n",
        "from tensorflow.keras.models import Sequential\n",
        "from tensorflow.keras.layers import Dense, Input\n",
        "from tensorflow.keras.utils import to_categorical\n",
        "from sklearn.preprocessing import MinMaxScaler\n",
        "import pennylane as qml\n",
        "import tensorflow as tf\n",
        "tf.config.run_functions_eagerly(True)\n",
        "\n",
        "\n",
        "# Example data placeholders (replace these with your actual data)\n",
        "train_images = np.random.rand(100, 4)  # 100 training samples with 4 features each\n",
        "test_images = np.random.rand(20, 4)    # 20 test samples with 4 features each\n",
        "val_images = np.random.rand(20, 4)     # 20 validation samples with 4 features each\n",
        "\n",
        "train_labels = np.random.randint(0, 2, size=(100,))  # Random binary labels for training\n",
        "test_labels = np.random.randint(0, 2, size=(20,))    # Random binary labels for testing\n",
        "val_labels = np.random.randint(0, 2, size=(20,))     # Random binary labels for validation\n",
        "\n",
        "# Preprocessing (Normalization and One-Hot Encoding)\n",
        "scaler = MinMaxScaler()\n",
        "\n",
        "# Normalize the images\n",
        "train_images = scaler.fit_transform(train_images)\n",
        "test_images = scaler.transform(test_images)\n",
        "val_images = scaler.transform(val_images)\n",
        "\n",
        "# One-hot encode the labels\n",
        "train_labels = to_categorical(train_labels, num_classes=2)\n",
        "test_labels = to_categorical(test_labels, num_classes=2)\n",
        "val_labels = to_categorical(val_labels, num_classes=2)\n",
        "\n",
        "# Define Quantum Circuit\n",
        "n_qubits = 4  # Adjust the number of qubits based on your problem\n",
        "dev = qml.device('default.qubit', wires=n_qubits)\n",
        "\n",
        "@qml.qnode(dev, interface=\"tf\")\n",
        "def quantum_circuit(inputs):\n",
        "    # Apply quantum operations on the inputs\n",
        "    for i in range(n_qubits):\n",
        "        qml.RY(inputs[i], wires=i)\n",
        "\n",
        "    qml.CNOT(wires=[0, 1])\n",
        "    qml.CNOT(wires=[2, 3])\n",
        "    qml.RX(np.pi / 2, wires=0)\n",
        "    qml.RX(np.pi / 2, wires=2)\n",
        "\n",
        "    # Extract expectation values (PauliZ measurements)\n",
        "    return [qml.expval(qml.PauliZ(i)) for i in range(n_qubits)]\n",
        "\n",
        "class QuantumLayer(tf.keras.layers.Layer):\n",
        "    def __init__(self, n_qubits):\n",
        "        super(QuantumLayer, self).__init__()\n",
        "        self.n_qubits = n_qubits\n",
        "\n",
        "    def call(self, inputs):\n",
        "        # Apply the quantum circuit to each input using tf.map_fn\n",
        "        output = tf.map_fn(lambda x: tf.convert_to_tensor(quantum_circuit(x), dtype=tf.float32), inputs)\n",
        "        # Ensure output is a tensor and stack the results\n",
        "        output = tf.stack(output, axis=0)\n",
        "        return output\n",
        "\n",
        "    def compute_output_shape(self, input_shape):\n",
        "        # Define the shape of the output\n",
        "        return (input_shape[0], self.n_qubits)\n",
        "\n",
        "\n",
        "# Hybrid Model (Quantum + Dense layers)\n",
        "model = Sequential([\n",
        "    Input(shape=(train_images.shape[1],)),\n",
        "    QuantumLayer(n_qubits),  # Quantum layer\n",
        "    Dense(64, activation='relu'),\n",
        "    Dense(2, activation='softmax')  # Binary classification\n",
        "])\n",
        "\n",
        "# Compile the model\n",
        "model.compile(optimizer='adam', loss='categorical_crossentropy', metrics=['accuracy'])\n",
        "\n",
        "# Train the model\n",
        "history = model.fit(\n",
        "    train_images, train_labels,\n",
        "    validation_data=(val_images, val_labels),\n",
        "    epochs=20,\n",
        "    batch_size=32\n",
        ")\n",
        "\n",
        "# Evaluate on test data\n",
        "test_loss, test_accuracy = model.evaluate(test_images, test_labels)\n",
        "print(f\"Test Accuracy: {test_accuracy:.2f}\")\n"
      ],
      "metadata": {
        "trusted": true,
        "id": "DRCM5uhvxzBo",
        "colab": {
          "base_uri": "https://localhost:8080/"
        },
        "outputId": "ca276578-4bcd-4c52-add5-89eee7fcf397"
      },
      "execution_count": 38,
      "outputs": [
        {
          "output_type": "stream",
          "name": "stdout",
          "text": [
            "Epoch 1/20\n"
          ]
        },
        {
          "output_type": "stream",
          "name": "stderr",
          "text": [
            "/usr/local/lib/python3.10/dist-packages/tensorflow/python/data/ops/structured_function.py:258: UserWarning: Even though the `tf.config.experimental_run_functions_eagerly` option is set, this option does not apply to tf.data functions. To force eager execution of tf.data functions, please use `tf.data.experimental.enable_debug_mode()`.\n",
            "  warnings.warn(\n"
          ]
        },
        {
          "output_type": "stream",
          "name": "stdout",
          "text": [
            "\u001b[1m4/4\u001b[0m \u001b[32m━━━━━━━━━━━━━━━━━━━━\u001b[0m\u001b[37m\u001b[0m \u001b[1m4s\u001b[0m 991ms/step - accuracy: 0.4816 - loss: 0.6967 - val_accuracy: 0.5000 - val_loss: 0.6987\n",
            "Epoch 2/20\n",
            "\u001b[1m4/4\u001b[0m \u001b[32m━━━━━━━━━━━━━━━━━━━━\u001b[0m\u001b[37m\u001b[0m \u001b[1m6s\u001b[0m 1s/step - accuracy: 0.4842 - loss: 0.6975 - val_accuracy: 0.5500 - val_loss: 0.6971\n",
            "Epoch 3/20\n",
            "\u001b[1m4/4\u001b[0m \u001b[32m━━━━━━━━━━━━━━━━━━━━\u001b[0m\u001b[37m\u001b[0m \u001b[1m4s\u001b[0m 961ms/step - accuracy: 0.5056 - loss: 0.6944 - val_accuracy: 0.3500 - val_loss: 0.6963\n",
            "Epoch 4/20\n",
            "\u001b[1m4/4\u001b[0m \u001b[32m━━━━━━━━━━━━━━━━━━━━\u001b[0m\u001b[37m\u001b[0m \u001b[1m4s\u001b[0m 989ms/step - accuracy: 0.4983 - loss: 0.6928 - val_accuracy: 0.2500 - val_loss: 0.6960\n",
            "Epoch 5/20\n",
            "\u001b[1m4/4\u001b[0m \u001b[32m━━━━━━━━━━━━━━━━━━━━\u001b[0m\u001b[37m\u001b[0m \u001b[1m5s\u001b[0m 1s/step - accuracy: 0.5252 - loss: 0.6916 - val_accuracy: 0.5000 - val_loss: 0.6953\n",
            "Epoch 6/20\n",
            "\u001b[1m4/4\u001b[0m \u001b[32m━━━━━━━━━━━━━━━━━━━━\u001b[0m\u001b[37m\u001b[0m \u001b[1m4s\u001b[0m 971ms/step - accuracy: 0.4967 - loss: 0.6919 - val_accuracy: 0.5000 - val_loss: 0.6948\n",
            "Epoch 7/20\n",
            "\u001b[1m4/4\u001b[0m \u001b[32m━━━━━━━━━━━━━━━━━━━━\u001b[0m\u001b[37m\u001b[0m \u001b[1m4s\u001b[0m 970ms/step - accuracy: 0.4948 - loss: 0.6926 - val_accuracy: 0.5000 - val_loss: 0.6947\n",
            "Epoch 8/20\n",
            "\u001b[1m4/4\u001b[0m \u001b[32m━━━━━━━━━━━━━━━━━━━━\u001b[0m\u001b[37m\u001b[0m \u001b[1m5s\u001b[0m 1s/step - accuracy: 0.5207 - loss: 0.6904 - val_accuracy: 0.5000 - val_loss: 0.6949\n",
            "Epoch 9/20\n",
            "\u001b[1m4/4\u001b[0m \u001b[32m━━━━━━━━━━━━━━━━━━━━\u001b[0m\u001b[37m\u001b[0m \u001b[1m4s\u001b[0m 965ms/step - accuracy: 0.5215 - loss: 0.6920 - val_accuracy: 0.2500 - val_loss: 0.6951\n",
            "Epoch 10/20\n",
            "\u001b[1m4/4\u001b[0m \u001b[32m━━━━━━━━━━━━━━━━━━━━\u001b[0m\u001b[37m\u001b[0m \u001b[1m4s\u001b[0m 971ms/step - accuracy: 0.4691 - loss: 0.6919 - val_accuracy: 0.4000 - val_loss: 0.6955\n",
            "Epoch 11/20\n",
            "\u001b[1m4/4\u001b[0m \u001b[32m━━━━━━━━━━━━━━━━━━━━\u001b[0m\u001b[37m\u001b[0m \u001b[1m5s\u001b[0m 1s/step - accuracy: 0.5330 - loss: 0.6907 - val_accuracy: 0.4000 - val_loss: 0.6954\n",
            "Epoch 12/20\n",
            "\u001b[1m4/4\u001b[0m \u001b[32m━━━━━━━━━━━━━━━━━━━━\u001b[0m\u001b[37m\u001b[0m \u001b[1m4s\u001b[0m 979ms/step - accuracy: 0.5351 - loss: 0.6920 - val_accuracy: 0.5500 - val_loss: 0.6953\n",
            "Epoch 13/20\n",
            "\u001b[1m4/4\u001b[0m \u001b[32m━━━━━━━━━━━━━━━━━━━━\u001b[0m\u001b[37m\u001b[0m \u001b[1m6s\u001b[0m 1s/step - accuracy: 0.5422 - loss: 0.6896 - val_accuracy: 0.6000 - val_loss: 0.6955\n",
            "Epoch 14/20\n",
            "\u001b[1m4/4\u001b[0m \u001b[32m━━━━━━━━━━━━━━━━━━━━\u001b[0m\u001b[37m\u001b[0m \u001b[1m5s\u001b[0m 1s/step - accuracy: 0.5521 - loss: 0.6909 - val_accuracy: 0.6000 - val_loss: 0.6954\n",
            "Epoch 15/20\n",
            "\u001b[1m4/4\u001b[0m \u001b[32m━━━━━━━━━━━━━━━━━━━━\u001b[0m\u001b[37m\u001b[0m \u001b[1m10s\u001b[0m 1s/step - accuracy: 0.5431 - loss: 0.6903 - val_accuracy: 0.2500 - val_loss: 0.6948\n",
            "Epoch 16/20\n",
            "\u001b[1m4/4\u001b[0m \u001b[32m━━━━━━━━━━━━━━━━━━━━\u001b[0m\u001b[37m\u001b[0m \u001b[1m4s\u001b[0m 964ms/step - accuracy: 0.4349 - loss: 0.6926 - val_accuracy: 0.4000 - val_loss: 0.6944\n",
            "Epoch 17/20\n",
            "\u001b[1m4/4\u001b[0m \u001b[32m━━━━━━━━━━━━━━━━━━━━\u001b[0m\u001b[37m\u001b[0m \u001b[1m5s\u001b[0m 972ms/step - accuracy: 0.5278 - loss: 0.6899 - val_accuracy: 0.5000 - val_loss: 0.6941\n",
            "Epoch 18/20\n",
            "\u001b[1m4/4\u001b[0m \u001b[32m━━━━━━━━━━━━━━━━━━━━\u001b[0m\u001b[37m\u001b[0m \u001b[1m5s\u001b[0m 1s/step - accuracy: 0.5010 - loss: 0.6900 - val_accuracy: 0.5000 - val_loss: 0.6939\n",
            "Epoch 19/20\n",
            "\u001b[1m4/4\u001b[0m \u001b[32m━━━━━━━━━━━━━━━━━━━━\u001b[0m\u001b[37m\u001b[0m \u001b[1m5s\u001b[0m 1s/step - accuracy: 0.5052 - loss: 0.6890 - val_accuracy: 0.5000 - val_loss: 0.6938\n",
            "Epoch 20/20\n",
            "\u001b[1m4/4\u001b[0m \u001b[32m━━━━━━━━━━━━━━━━━━━━\u001b[0m\u001b[37m\u001b[0m \u001b[1m4s\u001b[0m 1s/step - accuracy: 0.5123 - loss: 0.6885 - val_accuracy: 0.5000 - val_loss: 0.6937\n",
            "\u001b[1m1/1\u001b[0m \u001b[32m━━━━━━━━━━━━━━━━━━━━\u001b[0m\u001b[37m\u001b[0m \u001b[1m1s\u001b[0m 871ms/step - accuracy: 0.6000 - loss: 0.6871\n",
            "Test Accuracy: 0.60\n"
          ]
        }
      ]
    },
    {
      "cell_type": "code",
      "source": [
        "import matplotlib.pyplot as plt\n",
        "\n",
        "# Plotting the training and validation accuracy\n",
        "plt.plot(history.history['accuracy'], label='Train Accuracy')\n",
        "plt.plot(history.history['val_accuracy'], label='Validation Accuracy')\n",
        "plt.xlabel('Epochs')\n",
        "plt.ylabel('Accuracy')\n",
        "plt.title('Model Accuracy')\n",
        "plt.legend()\n",
        "plt.show()\n",
        "\n",
        "# Plotting the training and validation loss\n",
        "plt.plot(history.history['loss'], label='Train Loss')\n",
        "plt.plot(history.history['val_loss'], label='Validation Loss')\n",
        "plt.xlabel('Epochs')\n",
        "plt.ylabel('Loss')\n",
        "plt.title('Model Loss')\n",
        "plt.legend()\n",
        "plt.show()\n"
      ],
      "metadata": {
        "execution": {
          "iopub.status.busy": "2024-11-20T19:54:14.33268Z",
          "iopub.execute_input": "2024-11-20T19:54:14.333873Z",
          "iopub.status.idle": "2024-11-20T19:54:15.344853Z",
          "shell.execute_reply.started": "2024-11-20T19:54:14.333807Z",
          "shell.execute_reply": "2024-11-20T19:54:15.342957Z"
        },
        "trusted": true,
        "id": "wpwea7lPxzBp",
        "colab": {
          "base_uri": "https://localhost:8080/",
          "height": 927
        },
        "outputId": "f8a64c68-c388-4838-bbd4-0d028bf288f5"
      },
      "execution_count": 39,
      "outputs": [
        {
          "output_type": "display_data",
          "data": {
            "text/plain": [
              "<Figure size 640x480 with 1 Axes>"
            ],
            "image/png": "[encoded data removed]"
          },
          "metadata": {}
        },
        {
          "output_type": "display_data",
          "data": {
            "text/plain": [
              "<Figure size 640x480 with 1 Axes>"
            ],
            "image/png": "[encoded data removed]"
          },
          "metadata": {}
        }
      ]
    },
    {
      "cell_type": "code",
      "source": [
        "model.save('quantum_hybrid_model.h5')\n"
      ],
      "metadata": {
        "id": "rPPpGH6SxzBr",
        "colab": {
          "base_uri": "https://localhost:8080/"
        },
        "outputId": "b56019e1-f341-409e-8c4d-7cc98c61d284"
      },
      "execution_count": 40,
      "outputs": [
        {
          "output_type": "stream",
          "name": "stderr",
          "text": [
            "WARNING:absl:You are saving your model as an HDF5 file via `model.save()` or `keras.saving.save_model(model)`. This file format is considered legacy. We recommend using instead the native Keras format, e.g. `model.save('my_model.keras')` or `keras.saving.save_model(model, 'my_model.keras')`. \n"
          ]
        }
      ]
    },
    {
      "cell_type": "code",
      "source": [
        "new_data = test_images[:5]\n",
        "predictions = model.predict(new_data)\n",
        "print(predictions)"
      ],
      "metadata": {
        "colab": {
          "base_uri": "https://localhost:8080/"
        },
        "id": "MiDaNeoeWcae",
        "outputId": "849036fa-740e-41e9-d1b6-57a0dac94350"
      },
      "execution_count": 44,
      "outputs": [
        {
          "output_type": "stream",
          "name": "stdout",
          "text": [
            "\u001b[1m1/1\u001b[0m \u001b[32m━━━━━━━━━━━━━━━━━━━━\u001b[0m\u001b[37m\u001b[0m \u001b[1m0s\u001b[0m 317ms/step\n",
            "[[0.5092817  0.49071828]\n",
            " [0.5157175  0.48428246]\n",
            " [0.53190035 0.46809965]\n",
            " [0.5085787  0.49142125]\n",
            " [0.52086    0.47913992]]\n"
          ]
        }
      ]
    },
    {
      "cell_type": "code",
      "source": [
        "import numpy as np\n",
        "import tensorflow as tf\n",
        "from tensorflow.keras.preprocessing.image import ImageDataGenerator\n",
        "from tensorflow.keras.optimizers import Adam\n",
        "from tensorflow.keras.callbacks import LearningRateScheduler\n",
        "from tensorflow.keras.models import Sequential\n",
        "from tensorflow.keras.layers import Dense, Flatten, Conv2D, MaxPooling2D, Dropout, Input\n",
        "from tensorflow.keras import layers\n",
        "\n",
        "# Assuming your train_images is a NumPy array\n",
        "# Reshape the images if they are not in the proper shape\n",
        "train_images = train_images.reshape(-1, 64, 64, 1)  # Adjust the dimensions according to your image size\n",
        "\n",
        "# Normalize image data\n",
        "train_images = train_images / 255.0  # Normalize pixel values to be between 0 and 1\n",
        "\n",
        "# ImageDataGenerator for data augmentation\n",
        "datagen = ImageDataGenerator(\n",
        "    rotation_range=40,\n",
        "    width_shift_range=0.2,\n",
        "    height_shift_range=0.2,\n",
        "    shear_range=0.2,\n",
        "    zoom_range=0.2,\n",
        "    horizontal_flip=True,\n",
        "    fill_mode='nearest'\n",
        ")\n",
        "\n",
        "# Fit the data generator to the training data\n",
        "datagen.fit(train_images)\n",
        "\n",
        "# Assuming you have corresponding labels for the training images (train_labels)\n",
        "# Ensure train_labels are also NumPy arrays\n",
        "train_labels = np.array(train_labels)  # Ensure this is in the correct format (e.g., one-hot encoded)\n",
        "\n",
        "# Set up a learning rate scheduler\n",
        "def scheduler(epoch, lr):\n",
        "    if epoch > 10:\n",
        "        return lr * 0.9  # Reduce learning rate by 10% after 10 epochs\n",
        "    return lr\n",
        "\n",
        "# Learning rate scheduler callback\n",
        "lr_scheduler = LearningRateScheduler(scheduler)\n",
        "\n",
        "# Define the model\n",
        "model = Sequential([\n",
        "    Input(shape=(64, 64, 1)),  # Adjust input shape according to your image size\n",
        "    Conv2D(32, (3, 3), activation='relu', padding='same'),\n",
        "    MaxPooling2D(pool_size=(2, 2)),\n",
        "    Dropout(0.25),\n",
        "    Conv2D(64, (3, 3), activation='relu', padding='same'),\n",
        "    MaxPooling2D(pool_size=(2, 2)),\n",
        "    Dropout(0.25),\n",
        "    Flatten(),\n",
        "    Dense(128, activation='relu'),\n",
        "    Dropout(0.5),\n",
        "    Dense(10, activation='softmax')  # Adjust the number of output classes (10 for example)\n",
        "])\n",
        "\n",
        "# Compile the model\n",
        "model.compile(optimizer=Adam(), loss='sparse_categorical_crossentropy', metrics=['accuracy'])\n",
        "\n",
        "# Fit the model using the data generator\n",
        "model.fit(datagen.flow(train_images, train_labels, batch_size=32),\n",
        "          epochs=20,  # Number of epochs to train\n",
        "          callbacks=[lr_scheduler],  # Apply learning rate scheduler\n",
        "          verbose=2)\n"
      ],
      "metadata": {
        "colab": {
          "base_uri": "https://localhost:8080/",
          "height": 228
        },
        "id": "MPawjXNSXCo_",
        "outputId": "2d7026a5-bedd-4630-d2b7-c80a5503c71f"
      },
      "execution_count": 47,
      "outputs": [
        {
          "output_type": "error",
          "ename": "ValueError",
          "evalue": "cannot reshape array of size 400 into shape (64,64,1)",
          "traceback": [
            "\u001b[0;31m---------------------------------------------------------------------------\u001b[0m",
            "\u001b[0;31mValueError\u001b[0m                                Traceback (most recent call last)",
            "\u001b[0;32m<ipython-input-47-1ecbd44dd211>\u001b[0m in \u001b[0;36m<cell line: 12>\u001b[0;34m()\u001b[0m\n\u001b[1;32m     10\u001b[0m \u001b[0;31m# Assuming your train_images is a NumPy array\u001b[0m\u001b[0;34m\u001b[0m\u001b[0;34m\u001b[0m\u001b[0m\n\u001b[1;32m     11\u001b[0m \u001b[0;31m# Reshape the images if they are not in the proper shape\u001b[0m\u001b[0;34m\u001b[0m\u001b[0;34m\u001b[0m\u001b[0m\n\u001b[0;32m---> 12\u001b[0;31m \u001b[0mtrain_images\u001b[0m \u001b[0;34m=\u001b[0m \u001b[0mtrain_images\u001b[0m\u001b[0;34m.\u001b[0m\u001b[0mreshape\u001b[0m\u001b[0;34m(\u001b[0m\u001b[0;34m-\u001b[0m\u001b[0;36m1\u001b[0m\u001b[0;34m,\u001b[0m \u001b[0;36m64\u001b[0m\u001b[0;34m,\u001b[0m \u001b[0;36m64\u001b[0m\u001b[0;34m,\u001b[0m \u001b[0;36m1\u001b[0m\u001b[0;34m)\u001b[0m  \u001b[0;31m# Adjust the dimensions according to your image size\u001b[0m\u001b[0;34m\u001b[0m\u001b[0;34m\u001b[0m\u001b[0m\n\u001b[0m\u001b[1;32m     13\u001b[0m \u001b[0;34m\u001b[0m\u001b[0m\n\u001b[1;32m     14\u001b[0m \u001b[0;31m# Normalize image data\u001b[0m\u001b[0;34m\u001b[0m\u001b[0;34m\u001b[0m\u001b[0m\n",
            "\u001b[0;31mValueError\u001b[0m: cannot reshape array of size 400 into shape (64,64,1)"
          ]
        }
      ]
    },
    {
      "cell_type": "code",
      "source": [
        "print(train_images)\n",
        "print(train_images.shape)\n",
        "\n"
      ],
      "metadata": {
        "colab": {
          "base_uri": "https://localhost:8080/"
        },
        "id": "IMJSlew5YB2o",
        "outputId": "d1098870-93f9-486f-bf6a-7aa805043294"
      },
      "execution_count": 50,
      "outputs": [
        {
          "output_type": "stream",
          "name": "stdout",
          "text": [
            "[[0.8896862  0.57202921 0.83489626 0.9921034 ]\n",
            " [0.14932594 0.69674068 0.67557298 0.98034477]\n",
            " [0.98600464 0.69154028 0.24155491 0.79755024]\n",
            " [0.09172729 0.78743022 0.91330461 0.37863096]\n",
            " [0.62469368 0.42990414 0.43721053 0.30561124]\n",
            " [0.75853866 0.94599856 0.94409625 0.16897897]\n",
            " [0.87316582 0.74330214 0.25084903 0.06065567]\n",
            " [0.25557297 0.92155371 0.63413929 0.71945309]\n",
            " [0.24453418 0.72490013 0.02439079 0.37106115]\n",
            " [0.62074234 0.14021079 0.82543601 0.2296923 ]\n",
            " [0.64672645 0.40446261 0.59671629 0.10113048]\n",
            " [0.         0.91885734 0.26777184 0.81883382]\n",
            " [1.         0.20684441 0.263278   0.66081071]\n",
            " [0.96549229 0.92523152 0.50282583 0.79407818]\n",
            " [0.12095737 0.98808051 0.96788163 0.15784166]\n",
            " [0.28756061 0.09335584 0.26987562 0.81508399]\n",
            " [0.36786341 0.08136405 0.34093023 0.98178364]\n",
            " [0.62372496 0.41564438 0.16388102 0.98661397]\n",
            " [0.81830774 0.27828306 0.06666322 0.04991465]\n",
            " [0.10531494 0.58352463 0.93201587 0.49341694]\n",
            " [0.84079922 0.44596104 0.71012882 0.73035435]\n",
            " [0.15985842 0.35960712 0.63829475 0.0640939 ]\n",
            " [0.3507881  0.53664158 1.         0.47103629]\n",
            " [0.81342982 0.43186696 0.79861681 0.59284708]\n",
            " [0.88522948 0.41032224 0.60504116 0.62771706]\n",
            " [0.40762913 0.13839079 0.09033607 0.0096534 ]\n",
            " [0.87193482 0.23238597 0.20919792 0.73454903]\n",
            " [0.30852173 0.50731513 0.15982234 0.95997964]\n",
            " [0.84958952 0.87217247 0.40597893 0.76107728]\n",
            " [0.12923301 0.         0.01617904 0.58396625]\n",
            " [0.44632061 0.51952378 0.00357225 0.41879065]\n",
            " [0.71368953 0.44270464 0.73394774 0.22766449]\n",
            " [0.81046296 0.59133963 0.2084485  0.23139446]\n",
            " [0.62204228 0.83764946 0.41490161 0.25314036]\n",
            " [0.86529556 0.67378382 0.44761098 0.48450571]\n",
            " [0.19069271 0.63047389 0.35757528 0.99615516]\n",
            " [0.47155235 0.48675526 0.56629038 0.91665934]\n",
            " [0.79791875 0.45130874 0.72032297 0.58359719]\n",
            " [0.48395369 0.18734889 0.46358465 0.24056254]\n",
            " [0.91398114 0.33328476 0.95569867 0.53000804]\n",
            " [0.62561901 0.54494442 0.12643502 0.37156487]\n",
            " [0.08370335 0.62654879 0.44639029 0.77682118]\n",
            " [0.20719657 0.15904748 0.40553399 0.9265643 ]\n",
            " [0.7059065  0.41846199 0.5173341  0.07771425]\n",
            " [0.98496148 0.67086595 0.2836682  0.5831668 ]\n",
            " [0.09422438 0.97624834 0.17219143 0.6458672 ]\n",
            " [0.23262718 0.72303704 0.77889572 0.67145185]\n",
            " [0.60826939 0.90142213 0.07528759 0.32631309]\n",
            " [0.23551084 0.99886655 0.38846017 0.73110001]\n",
            " [0.67975048 0.20750732 0.236902   0.27630124]\n",
            " [0.40126164 0.23019338 0.0158551  0.87900908]\n",
            " [0.96565637 0.33957087 0.33718275 0.        ]\n",
            " [0.67519602 0.83306031 0.14379628 0.15374781]\n",
            " [0.786992   0.61975301 0.04125963 0.62018791]\n",
            " [0.29722494 0.36726551 0.7717508  0.81002479]\n",
            " [0.39029844 0.95719315 0.40566549 0.77062496]\n",
            " [0.47531213 0.90658602 0.91085085 0.08094268]\n",
            " [0.93601937 0.83315714 0.79349741 0.19530996]\n",
            " [0.80229674 0.85824407 0.28744352 0.95243643]\n",
            " [0.03353633 0.14409928 0.53780054 0.57307386]\n",
            " [0.63946794 0.00851614 0.96386426 0.03778462]\n",
            " [0.12840425 0.00550278 0.56730483 0.9322895 ]\n",
            " [0.6606368  0.83022256 0.00943542 0.53903695]\n",
            " [0.45056319 0.50009769 0.06882434 0.68255219]\n",
            " [0.49500107 0.7715706  0.4851046  0.14338401]\n",
            " [0.64263035 0.16702326 0.87520995 0.61068464]\n",
            " [0.14279899 0.97268017 0.51843587 0.06631268]\n",
            " [0.62082331 0.24944246 0.80597616 0.81696463]\n",
            " [0.97923232 0.50305696 0.45453565 0.75212334]\n",
            " [0.11762362 0.54899851 0.54653419 0.08301481]\n",
            " [0.40824102 0.8614588  0.85884308 0.09285444]\n",
            " [0.07512751 0.25912783 0.87759984 0.12274747]\n",
            " [0.71565265 0.09438656 0.62402062 0.35165904]\n",
            " [0.78580181 0.22954615 0.64020915 0.23034854]\n",
            " [0.70920286 0.88225748 0.12383621 0.8661133 ]\n",
            " [0.58697113 0.12084725 0.42690806 0.15495093]\n",
            " [0.69565249 0.76516502 0.10266806 0.50288563]\n",
            " [0.81197252 0.94598477 0.51355069 0.95044035]\n",
            " [0.52805005 0.39323713 0.85083095 0.48962731]\n",
            " [0.46312331 0.49127015 0.84940182 0.83119267]\n",
            " [0.39351836 0.33113592 0.49179345 0.57003068]\n",
            " [0.22538269 0.80094954 0.48630597 0.32946795]\n",
            " [0.09151543 0.23480334 0.9526927  0.3002995 ]\n",
            " [0.15466275 0.46104118 0.30552    0.02828327]\n",
            " [0.31170677 0.54613582 0.55204134 0.35215445]\n",
            " [0.4380838  0.97592325 0.37632551 0.25306618]\n",
            " [0.23060423 0.45807518 0.76146036 0.20042585]\n",
            " [0.70476069 0.01277995 0.41823243 0.77468498]\n",
            " [0.32757316 0.56615454 0.20261979 0.74055485]\n",
            " [0.03599853 0.86070189 0.19578435 0.87397564]\n",
            " [0.34161607 0.72826106 0.31775167 0.90573162]\n",
            " [0.11168581 0.17327863 0.4929041  0.07542218]\n",
            " [0.18226847 0.95373927 0.98011215 0.37200635]\n",
            " [0.92257596 0.54686611 0.26788517 0.70065369]\n",
            " [0.65346549 1.         0.26315359 0.67008117]\n",
            " [0.03573861 0.1071151  0.         1.        ]\n",
            " [0.79940037 0.79357369 0.5097295  0.2952282 ]\n",
            " [0.13675321 0.28154407 0.37493757 0.75497963]\n",
            " [0.53209389 0.07023374 0.01422004 0.09597275]\n",
            " [0.40062183 0.94295559 0.63839585 0.80084544]]\n",
            "(100, 4)\n"
          ]
        }
      ]
    },
    {
      "cell_type": "code",
      "source": [
        "train_images = train_images.reshape(-1, 2, 2, 1)  # Example for 2x2 images (you will need to adjust this based on your actual data)\n",
        "print(train_images.shape)  # Should now be (100, 2, 2, 1) if reshaped correctly\n",
        "\n"
      ],
      "metadata": {
        "colab": {
          "base_uri": "https://localhost:8080/"
        },
        "id": "lJ5UyNhGYJ4o",
        "outputId": "5c635d7a-3298-49d4-80cb-5d3f0e94c2e8"
      },
      "execution_count": 51,
      "outputs": [
        {
          "output_type": "stream",
          "name": "stdout",
          "text": [
            "(100, 2, 2, 1)\n"
          ]
        }
      ]
    },
    {
      "cell_type": "code",
      "source": [
        "import tensorflow as tf\n",
        "from tensorflow.keras.models import Sequential\n",
        "from tensorflow.keras.layers import Conv2D, MaxPooling2D, Flatten, Dense, Dropout\n",
        "from tensorflow.keras.preprocessing.image import ImageDataGenerator\n",
        "\n",
        "# Step 1: Ensure your images are normalized and resized correctly\n",
        "train_images = train_images / 255.0  # Normalize images to [0, 1] range\n",
        "print(f\"Training images shape: {train_images.shape}\")\n",
        "\n",
        "# Step 2: Data Augmentation (optional, helps with generalization)\n",
        "datagen = ImageDataGenerator(\n",
        "    rotation_range=20,\n",
        "    width_shift_range=0.2,\n",
        "    height_shift_range=0.2,\n",
        "    shear_range=0.2,\n",
        "    zoom_range=0.2,\n",
        "    horizontal_flip=True,\n",
        "    fill_mode='nearest'\n",
        ")\n",
        "\n",
        "datagen.fit(train_images)\n",
        "\n",
        "# Update the model for binary classification\n",
        "model = Sequential([\n",
        "    Conv2D(32, (3, 3), activation='relu', input_shape=(2, 2, 1)),\n",
        "    MaxPooling2D((2, 2)),\n",
        "    Flatten(),\n",
        "    Dense(64, activation='relu'),\n",
        "    Dropout(0.5),\n",
        "    Dense(2, activation='sigmoid')  # For binary classification, use 2 units and sigmoid\n",
        "])\n",
        "\n",
        "# Compile the model (using binary cross-entropy loss for binary classification)\n",
        "model.compile(optimizer='adam',\n",
        "              loss='binary_crossentropy',  # Change to binary cross-entropy\n",
        "              metrics=['accuracy'])\n",
        "\n",
        "# Train the model\n",
        "model.fit(datagen.flow(train_images, train_labels, batch_size=32),\n",
        "          epochs=10,\n",
        "          verbose=2)\n",
        "\n",
        "\n",
        "# Reshape the test images to match the input shape of the model\n",
        "test_images = test_images.reshape(-1, 2, 2, 1)  # Adjust the shape to (None, 2, 2, 1)\n",
        "test_images = test_images / 255.0  # Normalize the images\n",
        "\n",
        "# Evaluate the model on the test data\n",
        "test_loss, test_acc = model.evaluate(test_images, test_labels, verbose=2)\n",
        "print(f\"Test accuracy: {test_acc}\")\n"
      ],
      "metadata": {
        "colab": {
          "base_uri": "https://localhost:8080/"
        },
        "id": "GzM_R2WxYkb-",
        "outputId": "95a87050-eeb3-4953-a50c-f53b48648af1"
      },
      "execution_count": 54,
      "outputs": [
        {
          "output_type": "stream",
          "name": "stdout",
          "text": [
            "Training images shape: (100, 2, 2, 1)\n",
            "Epoch 1/10\n",
            "4/4 - 0s - 117ms/step - accuracy: 0.5200 - loss: 0.6932\n",
            "Epoch 2/10\n",
            "4/4 - 0s - 107ms/step - accuracy: 0.5200 - loss: 0.6931\n",
            "Epoch 3/10\n",
            "4/4 - 0s - 72ms/step - accuracy: 0.5200 - loss: 0.6931\n",
            "Epoch 4/10\n",
            "4/4 - 0s - 66ms/step - accuracy: 0.5200 - loss: 0.6931\n",
            "Epoch 5/10\n",
            "4/4 - 0s - 71ms/step - accuracy: 0.5200 - loss: 0.6931\n",
            "Epoch 6/10\n",
            "4/4 - 0s - 62ms/step - accuracy: 0.5200 - loss: 0.6931\n",
            "Epoch 7/10\n",
            "4/4 - 0s - 78ms/step - accuracy: 0.5200 - loss: 0.6931\n",
            "Epoch 8/10\n",
            "4/4 - 0s - 74ms/step - accuracy: 0.5200 - loss: 0.6931\n",
            "Epoch 9/10\n",
            "4/4 - 0s - 75ms/step - accuracy: 0.5200 - loss: 0.6931\n",
            "Epoch 10/10\n",
            "4/4 - 0s - 72ms/step - accuracy: 0.5200 - loss: 0.6931\n",
            "1/1 - 0s - 35ms/step - accuracy: 0.6000 - loss: 0.6926\n",
            "Test accuracy: 0.6000000238418579\n"
          ]
        }
      ]
    },
    {
      "cell_type": "code",
      "source": [
        "import matplotlib.pyplot as plt\n",
        "\n",
        "# Assuming 'history' contains the training history of the model\n",
        "# Plot training and validation loss\n",
        "plt.figure(figsize=(12, 6))\n",
        "plt.subplot(1, 2, 1)\n",
        "plt.plot(history.history['loss'], label='Training Loss')\n",
        "plt.plot(history.history['val_loss'], label='Validation Loss')\n",
        "plt.title('Training vs Validation Loss')\n",
        "plt.xlabel('Epochs')\n",
        "plt.ylabel('Loss')\n",
        "plt.legend()\n",
        "\n",
        "# Plot training and validation accuracy\n",
        "plt.subplot(1, 2, 2)\n",
        "plt.plot(history.history['accuracy'], label='Training Accuracy')\n",
        "plt.plot(history.history['val_accuracy'], label='Validation Accuracy')\n",
        "plt.title('Training vs Validation Accuracy')\n",
        "plt.xlabel('Epochs')\n",
        "plt.ylabel('Accuracy')\n",
        "plt.legend()\n",
        "\n",
        "plt.tight_layout()\n",
        "plt.show()\n"
      ],
      "metadata": {
        "colab": {
          "base_uri": "https://localhost:8080/",
          "height": 443
        },
        "id": "C1kWPW14Z2pI",
        "outputId": "2cf21c0f-2363-4aed-e8e0-4fd49a08c97f"
      },
      "execution_count": 55,
      "outputs": [
        {
          "output_type": "display_data",
          "data": {
            "text/plain": [
              "<Figure size 1200x600 with 2 Axes>"
            ],
            "image/png": "[encoded data removed]"
          },
          "metadata": {}
        }
      ]
    },
    {
      "cell_type": "code",
      "source": [
        "import numpy as np\n",
        "\n",
        "# Get predictions for the test set\n",
        "predictions = model.predict(test_images)\n",
        "\n",
        "# For binary classification, round the predictions\n",
        "predictions = np.round(predictions)\n",
        "\n",
        "# Plot some sample predictions vs actual labels\n",
        "plt.figure(figsize=(12, 6))\n",
        "\n",
        "# Select the number of samples you want to plot\n",
        "num_samples = 5\n",
        "\n",
        "for i in range(num_samples):\n",
        "    plt.subplot(1, num_samples, i + 1)\n",
        "    plt.imshow(test_images[i].reshape(2, 2), cmap='gray')  # Reshaping to match image size\n",
        "    plt.title(f\"True: {test_labels[i]}, Pred: {predictions[i]}\")\n",
        "    plt.axis('off')\n",
        "\n",
        "plt.show()\n"
      ],
      "metadata": {
        "colab": {
          "base_uri": "https://localhost:8080/",
          "height": 209
        },
        "id": "lEgwoxlnZ4mA",
        "outputId": "4a2f2697-c080-46ef-e3fe-0edd910f329c"
      },
      "execution_count": 56,
      "outputs": [
        {
          "output_type": "stream",
          "name": "stdout",
          "text": [
            "\u001b[1m1/1\u001b[0m \u001b[32m━━━━━━━━━━━━━━━━━━━━\u001b[0m\u001b[37m\u001b[0m \u001b[1m0s\u001b[0m 48ms/step\n"
          ]
        },
        {
          "output_type": "display_data",
          "data": {
            "text/plain": [
              "<Figure size 1200x600 with 5 Axes>"
            ],
            "image/png": "[encoded data removed]"
          },
          "metadata": {}
        }
      ]
    },
    {
      "cell_type": "code",
      "source": [],
      "metadata": {
        "id": "pkQncFh6Z8aS"
      },
      "execution_count": null,
      "outputs": []
    }
  ]
}