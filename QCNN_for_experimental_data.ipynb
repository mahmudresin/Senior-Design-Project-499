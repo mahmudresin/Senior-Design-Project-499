{
  "metadata": {
    "kernelspec": {
      "language": "python",
      "display_name": "Python 3",
      "name": "python3"
    },
    "language_info": {
      "pygments_lexer": "ipython3",
      "nbconvert_exporter": "python",
      "version": "3.6.4",
      "file_extension": ".py",
      "codemirror_mode": {
        "name": "ipython",
        "version": 3
      },
      "name": "python",
      "mimetype": "text/x-python"
    },
    "kaggle": {
      "accelerator": "none",
      "dataSources": [
        {
          "sourceId": 9588433,
          "sourceType": "datasetVersion",
          "datasetId": 5847681
        }
      ],
      "isInternetEnabled": true,
      "language": "python",
      "sourceType": "notebook",
      "isGpuEnabled": false
    },
    "colab": {
      "name": "QCNN for experimental data",
      "provenance": [],
      "include_colab_link": true
    }
  },
  "nbformat_minor": 0,
  "nbformat": 4,
  "cells": [
    {
      "cell_type": "markdown",
      "metadata": {
        "id": "view-in-github",
        "colab_type": "text"
      },
      "source": [
        "<a href=\"https://colab.research.google.com/github/mahmudresin/Senior-Design-Project-499/blob/main/QCNN_for_experimental_data.ipynb\" target=\"_parent\"><img src=\"https://colab.research.google.com/assets/colab-badge.svg\" alt=\"Open In Colab\"/></a>"
      ]
    },
    {
      "source": [
        "\n",
        "# IMPORTANT: RUN THIS CELL IN ORDER TO IMPORT YOUR KAGGLE DATA SOURCES\n",
        "# TO THE CORRECT LOCATION (/kaggle/input) IN YOUR NOTEBOOK,\n",
        "# THEN FEEL FREE TO DELETE THIS CELL.\n",
        "# NOTE: THIS NOTEBOOK ENVIRONMENT DIFFERS FROM KAGGLE'S PYTHON\n",
        "# ENVIRONMENT SO THERE MAY BE MISSING LIBRARIES USED BY YOUR\n",
        "# NOTEBOOK.\n",
        "\n",
        "import os\n",
        "import sys\n",
        "from tempfile import NamedTemporaryFile\n",
        "from urllib.request import urlopen\n",
        "from urllib.parse import unquote, urlparse\n",
        "from urllib.error import HTTPError\n",
        "from zipfile import ZipFile\n",
        "import tarfile\n",
        "import shutil\n",
        "\n",
        "CHUNK_SIZE = 40960\n",
        "DATA_SOURCE_MAPPING = 'experimental:https%3A%2F%2Fstorage.googleapis.com%2Fkaggle-data-sets%2F5847681%2F9588433%2Fbundle%2Farchive.zip%3FX-Goog-Algorithm%3DGOOG4-RSA-SHA256%26X-Goog-Credential%3Dgcp-kaggle-com%2540kaggle-161607.iam.gserviceaccount.com%252F20241014%252Fauto%252Fstorage%252Fgoog4_request%26X-Goog-Date%3D20241014T114933Z%26X-Goog-Expires%3D259200%26X-Goog-SignedHeaders%3Dhost%26X-Goog-Signature%3D03345483095e21a9656840502f28b4cd1b2b7a6e14352bf3d79bdb2e538baad2fecdddc176e7bbaa110bc08095cd61181895a142a8287db3c6197d361c676226fd070cb4ea2d48deb960180d293f8124b4146b23a838241acc2b9c69e7037ffe4331a4c6efa6677431377f6a1ab11730c306e5e9c6e48c5ba52ccd580a238f266368c65877a3dbcd144144c8caad22c02d6fce74dbbbd668b17ce2bf57aac86feb26f236343f8021e6671532cd3ecf33877585b7131c1186743f33f22b4622414f6ddcfe0be4f58faa4457dc3fac3678a8db4cdde567ca3e1c6c89c6a94d52a850d530d2be3850b9f21259ee2f0def989fc718894c8e3d700f3bfd88ff259987'\n",
        "\n",
        "KAGGLE_INPUT_PATH='/kaggle/input'\n",
        "KAGGLE_WORKING_PATH='/kaggle/working'\n",
        "KAGGLE_SYMLINK='kaggle'\n",
        "\n",
        "!umount /kaggle/input/ 2> /dev/null\n",
        "shutil.rmtree('/kaggle/input', ignore_errors=True)\n",
        "os.makedirs(KAGGLE_INPUT_PATH, 0o777, exist_ok=True)\n",
        "os.makedirs(KAGGLE_WORKING_PATH, 0o777, exist_ok=True)\n",
        "\n",
        "try:\n",
        "  os.symlink(KAGGLE_INPUT_PATH, os.path.join(\"..\", 'input'), target_is_directory=True)\n",
        "except FileExistsError:\n",
        "  pass\n",
        "try:\n",
        "  os.symlink(KAGGLE_WORKING_PATH, os.path.join(\"..\", 'working'), target_is_directory=True)\n",
        "except FileExistsError:\n",
        "  pass\n",
        "\n",
        "for data_source_mapping in DATA_SOURCE_MAPPING.split(','):\n",
        "    directory, download_url_encoded = data_source_mapping.split(':')\n",
        "    download_url = unquote(download_url_encoded)\n",
        "    filename = urlparse(download_url).path\n",
        "    destination_path = os.path.join(KAGGLE_INPUT_PATH, directory)\n",
        "    try:\n",
        "        with urlopen(download_url) as fileres, NamedTemporaryFile() as tfile:\n",
        "            total_length = fileres.headers['content-length']\n",
        "            print(f'Downloading {directory}, {total_length} bytes compressed')\n",
        "            dl = 0\n",
        "            data = fileres.read(CHUNK_SIZE)\n",
        "            while len(data) > 0:\n",
        "                dl += len(data)\n",
        "                tfile.write(data)\n",
        "                done = int(50 * dl / int(total_length))\n",
        "                sys.stdout.write(f\"\\r[{'=' * done}{' ' * (50-done)}] {dl} bytes downloaded\")\n",
        "                sys.stdout.flush()\n",
        "                data = fileres.read(CHUNK_SIZE)\n",
        "            if filename.endswith('.zip'):\n",
        "              with ZipFile(tfile) as zfile:\n",
        "                zfile.extractall(destination_path)\n",
        "            else:\n",
        "              with tarfile.open(tfile.name) as tarfile:\n",
        "                tarfile.extractall(destination_path)\n",
        "            print(f'\\nDownloaded and uncompressed: {directory}')\n",
        "    except HTTPError as e:\n",
        "        print(f'Failed to load (likely expired) {download_url} to path {destination_path}')\n",
        "        continue\n",
        "    except OSError as e:\n",
        "        print(f'Failed to load {download_url} to path {destination_path}')\n",
        "        continue\n",
        "\n",
        "print('Data source import complete.')\n"
      ],
      "metadata": {
        "id": "Fuzp1qNV3MCs"
      },
      "cell_type": "code",
      "outputs": [],
      "execution_count": null
    },
    {
      "cell_type": "code",
      "source": [
        "# This Python 3 environment comes with many helpful analytics libraries installed\n",
        "# It is defined by the kaggle/python Docker image: https://github.com/kaggle/docker-python\n",
        "# For example, here's several helpful packages to load\n",
        "\n",
        "import numpy as np # linear algebra\n",
        "import pandas as pd # data processing, CSV file I/O (e.g. pd.read_csv)\n",
        "\n",
        "# Input data files are available in the read-only \"../input/\" directory\n",
        "# For example, running this (by clicking run or pressing Shift+Enter) will list all files under the input directory\n",
        "\n",
        "import os\n",
        "for dirname, _, filenames in os.walk('/kaggle/input'):\n",
        "    for filename in filenames:\n",
        "        print(os.path.join(dirname, filename))\n",
        "\n",
        "# You can write up to 20GB to the current directory (/kaggle/working/) that gets preserved as output when you create a version using \"Save & Run All\"\n",
        "# You can also write temporary files to /kaggle/temp/, but they won't be saved outside of the current session"
      ],
      "metadata": {
        "_uuid": "8f2839f25d086af736a60e9eeb907d3b93b6e0e5",
        "_cell_guid": "b1076dfc-b9ad-4769-8c92-a6c4dae69d19",
        "trusted": true,
        "id": "hBY_HUYR3MCw"
      },
      "execution_count": null,
      "outputs": []
    },
    {
      "cell_type": "code",
      "source": [
        "import os\n",
        "import numpy as np\n",
        "import tensorflow as tf\n",
        "from tensorflow.keras.models import Model\n",
        "from tensorflow.keras.layers import Input, Conv2D, MaxPooling2D, UpSampling2D, concatenate\n",
        "from tensorflow.keras.preprocessing.image import ImageDataGenerator\n",
        "from tensorflow.keras.optimizers import Adam\n",
        "from tensorflow.keras.metrics import BinaryAccuracy\n",
        "from sklearn.model_selection import train_test_split\n",
        "from pathlib import Path\n",
        "from PIL import Image\n",
        "\n",
        "# --- Check if the dataset exists ---\n",
        "dataset_path = Path(\"/kaggle/input/experimental\")  # Modified path\n",
        "if not dataset_path.exists():\n",
        "    raise FileNotFoundError(f\"Dataset not found at: {dataset_path}\")\n",
        "\n",
        "IMAGES_PATH = Path(dataset_path / \"Experimental Data\" / \"images\")  # Modified path\n",
        "MASK_PATH_TRAIN = Path(dataset_path / \"Experimental Data\" /\"train\")  # Modified path\n",
        "MASK_PATH_TEST = Path(dataset_path / \"Experimental Data\" /\"test\")  # Modified path\n",
        "\n",
        "# --- Check if required directories exist ---\n",
        "required_paths = [IMAGES_PATH, MASK_PATH_TRAIN, MASK_PATH_TEST]\n",
        "for path in required_paths:\n",
        "    if not path.exists():\n",
        "        raise FileNotFoundError(f\"Directory not found: {path}\")\n",
        "\n",
        "IMG_HEIGHT, IMG_WIDTH = 256, 256  # Example image dimensions\n",
        "BATCH_SIZE = 16\n",
        "\n",
        "def load_images_and_masks(image_path, mask_path):\n",
        "    images = []\n",
        "    masks = []\n",
        "\n",
        "    image_files = sorted(os.listdir(image_path))\n",
        "    mask_files = sorted(os.listdir(mask_path))\n",
        "\n",
        "    for image_file, mask_file in zip(image_files, mask_files):\n",
        "        # Ensure images are opened in RGB mode or converted to RGB\n",
        "        image = Image.open(os.path.join(image_path, image_file)).convert('RGB').resize((IMG_HEIGHT, IMG_WIDTH))\n",
        "        mask = Image.open(os.path.join(mask_path, mask_file)).resize((IMG_HEIGHT, IMG_WIDTH))\n",
        "\n",
        "        # Convert images to RGB format (Redundant if already opened in RGB mode)\n",
        "        # image = image.convert('RGB')\n",
        "\n",
        "        image = np.array(image) / 255.0  # Normalize images\n",
        "        mask = np.array(mask) / 255.0    # Normalize masks\n",
        "\n",
        "        images.append(image)\n",
        "        masks.append(mask)\n",
        "\n",
        "    return np.array(images), np.array(masks)\n",
        "\n",
        "train_images, train_masks = load_images_and_masks(IMAGES_PATH, MASK_PATH_TRAIN)\n",
        "test_images, test_masks = load_images_and_masks(IMAGES_PATH, MASK_PATH_TEST)"
      ],
      "metadata": {
        "id": "WhSFGbgN3V__"
      },
      "execution_count": null,
      "outputs": []
    },
    {
      "cell_type": "code",
      "source": [],
      "metadata": {
        "id": "2Vqtn10N3WHz"
      },
      "execution_count": null,
      "outputs": []
    },
    {
      "cell_type": "code",
      "source": [],
      "metadata": {
        "id": "Liv_bSQ23WSP"
      },
      "execution_count": null,
      "outputs": []
    }
  ]
}